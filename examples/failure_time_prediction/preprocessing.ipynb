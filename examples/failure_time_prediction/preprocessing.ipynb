{
 "cells": [
  {
   "attachments": {},
   "cell_type": "markdown",
   "metadata": {
    "id": "M43LSnUZlFdM"
   },
   "source": [
    "## Import libraries"
   ]
  },
  {
   "cell_type": "code",
   "execution_count": null,
   "metadata": {
    "id": "UIJlDLn9drc0"
   },
   "outputs": [],
   "source": [
    "import math\n",
    "import matplotlib.pyplot as plt\n",
    "import numpy as np"
   ]
  },
  {
   "attachments": {},
   "cell_type": "markdown",
   "metadata": {
    "id": "ZFKJuk6Hc5If"
   },
   "source": [
    "## Signal Pre-processing\n",
    "\n",
    "The preprocessing of data is based on the descriptions in [this paper](https://www.mdpi.com/1424-8220/19/19/4342)."
   ]
  },
  {
   "cell_type": "markdown",
   "metadata": {},
   "source": [
    "### Windowing the Time Series\n",
    "\n",
    "In order for the training dataset to cover different levels of vibration, three weight distribution\n",
    "configurations were done in the cooler blades. For each of these configurations, 17 rotation speeds were set up, ranging from 20% to 100% of the\n",
    "cooler maximum speed at 5% intervals. Once 1 min of data was collected for each motor speed of the cooler,\n",
    "represented by 3000 observations. Thus, in total, 153,000 vibration records were collected from the simulation model.\n",
    "A set of 50 observations of the dataset were defined as the measuring\n",
    "window, which represent 1 s of signal."
   ]
  },
  {
   "cell_type": "code",
   "execution_count": null,
   "metadata": {
    "id": "M7oUGcaSdTiz"
   },
   "outputs": [],
   "source": [
    "# Load the data from CSV\n",
    "acceleration_data = np.genfromtxt(\n",
    "    \"./data/download.csv\",\n",
    "    delimiter=\",\",\n",
    "    skip_header=1,\n",
    ")\n",
    "print(\"Number of observations:\", len(acceleration_data))\n",
    "\n",
    "# Separate data into measurement windows of size 50\n",
    "window_size = 50\n",
    "num_windows = len(acceleration_data) // window_size\n",
    "measurement_windows = np.empty((0, 50, 5), dtype=\"double\")\n",
    "for i in range(num_windows):\n",
    "    start_idx = i * window_size\n",
    "    end_idx = start_idx + window_size\n",
    "    window = acceleration_data[start_idx:end_idx, :]\n",
    "    measurement_windows = np.append(measurement_windows, [window], axis=0)"
   ]
  },
  {
   "cell_type": "code",
   "execution_count": null,
   "metadata": {
    "colab": {
     "base_uri": "https://localhost:8080/",
     "height": 507
    },
    "id": "ha_RfMkYUawS",
    "outputId": "5116375b-96e5-467b-c7c5-d089c8e62468"
   },
   "outputs": [],
   "source": [
    "# plot the first two windows of the acceleration in y direction\n",
    "fig, (ax1, ax2) = plt.subplots(1, 2, figsize=(10, 5))\n",
    "\n",
    "ax1.plot(np.arange(0, 1, 0.02), measurement_windows[0, :, 3], color=\"red\")\n",
    "ax1.set_title(\"First Measurement Window\")\n",
    "ax1.set_xlabel(\"t [s]\")\n",
    "ax1.set_ylabel(\"acc_y [m/s^2]\")\n",
    "\n",
    "ax2.plot(np.arange(1, 2, 0.02), measurement_windows[1, :, 3], color=\"blue\")\n",
    "ax2.set_title(\"Second Measurement Window\")\n",
    "ax2.set_xlabel(\"t [s]\")\n",
    "ax2.set_ylabel(\"acc_y [m/s^2]\")\n",
    "\n",
    "fig.tight_layout()  # Adjust the spacing between subplots\n",
    "plt.show()"
   ]
  },
  {
   "attachments": {},
   "cell_type": "markdown",
   "metadata": {
    "id": "mzB5ewsTiBp9"
   },
   "source": [
    "### Calculating the Amplitude and Frequency Values\n",
    "\n",
    "The Fourier series and Fourier transform were used to describe the signals in the frequency domain, mapping the various frequencies and amplitudes of the signal. From this transformation it was possible to define a single amplitude and frequency value per axis for each measurement window.\n",
    "For this purpose, the calculation of the Fourier transform using the Fast Fourier Transform function was implemented in R, with the aid of the ’spectral’ library, generating all pairs of amplitude and frequency of a measurement window."
   ]
  },
  {
   "attachments": {},
   "cell_type": "markdown",
   "metadata": {
    "id": "_rKLUNVNfdzi"
   },
   "source": [
    "To generate a unique value, for each window, the Root Mean Square (RMS)\n",
    "value of the signal, or effective value, for the amplitude and frequency sets, was calculated by the\n",
    "following function:"
   ]
  },
  {
   "cell_type": "code",
   "execution_count": null,
   "metadata": {
    "id": "B2JKXf84gCuR"
   },
   "outputs": [],
   "source": [
    "def calculate_RMS(signal):\n",
    "    squared_signal = np.square(signal)\n",
    "    squared_signal_mean = np.mean(squared_signal)\n",
    "    rms = np.sqrt(squared_signal_mean)\n",
    "    return rms"
   ]
  },
  {
   "cell_type": "code",
   "execution_count": null,
   "metadata": {},
   "outputs": [],
   "source": [
    "def calculate_and_plot_fft(signal, plot=False):\n",
    "    fft_result = np.fft.fft(signal)\n",
    "    sampling_rate = 50  # 20ms for 1sec\n",
    "    n = len(signal)\n",
    "    freqs = np.fft.fftfreq(n, d=1 / sampling_rate)\n",
    "    # the original R-function scales the frquencies with 1/sampling_rate\n",
    "    freqs = 1 / sampling_rate * freqs\n",
    "    magnitudes = np.abs(fft_result)\n",
    "    # the original R-function normalizes to sample count and factor two needed for some scaling reasons\n",
    "    magnitudes = 2 / n * magnitudes\n",
    "\n",
    "    freqs_rms = calculate_RMS(freqs)\n",
    "    magnitudes_rms = calculate_RMS(magnitudes)\n",
    "\n",
    "    if plot:\n",
    "        fig, (ax1, ax2, ax3) = plt.subplots(3, 1, figsize=(10, 10))\n",
    "\n",
    "        ax1.plot(np.arange(0, 1, 0.02), signal, color=\"black\")\n",
    "        ax1.set_title(\"Original acceleration signal\")\n",
    "        ax1.set_xlabel(\"t [s]\")\n",
    "        ax1.set_ylabel(\"acc_y [m/s^2]\")\n",
    "\n",
    "        # plot all sine signals with FFT amplitudes and frequencies\n",
    "        t = np.linspace(0, 1, num=400)\n",
    "        for i in range(n):\n",
    "            sine = magnitudes[i] * np.sin(\n",
    "                2.0 * math.pi * freqs[i] * t * sampling_rate,\n",
    "            )\n",
    "            ax2.plot(t, sine)\n",
    "        ax2.set_title(\"All sine waves resulting from the FFT\")\n",
    "        ax2.set_xlabel(\"t [s]\")\n",
    "        ax2.set_ylabel(\"Amplitude [m/s^2]\")\n",
    "\n",
    "        rms_sine = magnitudes_rms * np.sin(\n",
    "            2.0 * math.pi * freqs_rms * t * sampling_rate,\n",
    "        )\n",
    "        ax3.plot(t, rms_sine, color=\"black\")\n",
    "        ax3.set_title(\"Sine wave corresponding to the RMS of the FFT\")\n",
    "        ax3.set_xlabel(\"t [s]\")\n",
    "        ax3.set_ylabel(\"Amplitude [m/s^2]\")\n",
    "\n",
    "        fig.tight_layout()  # Adjust the spacing between subplots\n",
    "        plt.show()\n",
    "    return magnitudes_rms, freqs_rms"
   ]
  },
  {
   "cell_type": "markdown",
   "metadata": {},
   "source": [
    "A new dataset containing 3060 records of pairs of amplitude and frequency data for each vibration\n",
    "axis was generated. Figure 5 presents an example of the transformation performed on the vibration\n",
    "measurements graphically.\n",
    "Figure 6 graphically presents the process of generating the amplitudes used in training dataset"
   ]
  },
  {
   "cell_type": "code",
   "execution_count": null,
   "metadata": {
    "id": "pKxUReh9jpPC"
   },
   "outputs": [],
   "source": [
    "# first window with plot\n",
    "res, _ = calculate_and_plot_fft(measurement_windows[0, :, 3], plot=True)\n",
    "\n",
    "rms_values = []\n",
    "print(\"Number of windows: \", np.size(measurement_windows, axis=0))\n",
    "for j in range(np.size(measurement_windows, axis=0)):\n",
    "    val, _ = calculate_and_plot_fft(measurement_windows[j, :, 3], plot=False)\n",
    "    rms_values.append(val)\n",
    "\n",
    "fig, (ax1) = plt.subplots(1, 1)\n",
    "# The values in the presented plot are ordered by the size\n",
    "rms_values.sort()\n",
    "ax1.plot(rms_values)\n",
    "ax1.set_title(\"Schematic of vibration signal transformation\")\n",
    "ax1.set_xlabel(\"Dataset observations\")\n",
    "ax1.set_ylabel(\"Dataset Amplitudes\")\n",
    "# ax1.set_xlim([0,500])\n",
    "# ax1.set_ylim([0, 0.9])\n",
    "plt.show()"
   ]
  },
  {
   "cell_type": "code",
   "execution_count": null,
   "metadata": {},
   "outputs": [],
   "source": [
    "# re-calculate all Fourier Data\n",
    "fourier_data = np.empty(shape=[0, 6])\n",
    "for j in range(np.size(measurement_windows, axis=0)):\n",
    "    x_mag, x_freq = calculate_and_plot_fft(\n",
    "        measurement_windows[j, :, 2],\n",
    "        plot=False,\n",
    "    )\n",
    "    y_mag, y_freq = calculate_and_plot_fft(\n",
    "        measurement_windows[j, :, 3],\n",
    "        plot=False,\n",
    "    )\n",
    "    z_mag, z_freq = calculate_and_plot_fft(\n",
    "        measurement_windows[j, :, 4],\n",
    "        plot=False,\n",
    "    )\n",
    "    fourier_data = np.append(\n",
    "        fourier_data,\n",
    "        [[x_mag, x_freq, y_mag, y_freq, z_mag, z_freq]],\n",
    "        axis=0,\n",
    "    )"
   ]
  },
  {
   "attachments": {},
   "cell_type": "markdown",
   "metadata": {
    "id": "2iu3jddP8ZoW"
   },
   "source": [
    "### Generate Final Data Set\n",
    "\n",
    "To calculate the estimated failure time, three steps were performed in the dataset. The first step was to\n",
    "establish vibration signal growth rates for the observations, doubling the dataset for the amount of\n",
    "desired growth rates. Three growth rates gr of the signal were set: 0.01, 0.02 and 0.05."
   ]
  },
  {
   "cell_type": "code",
   "execution_count": null,
   "metadata": {},
   "outputs": [],
   "source": [
    "def duplicate_with_values(values, n, data):\n",
    "    growth_col = np.array([])\n",
    "    training_data = np.empty(shape=[0, np.size(data, axis=1)])\n",
    "    for i in range(len(values)):\n",
    "        col = np.empty(n)\n",
    "        col.fill(values[i])\n",
    "        growth_col = np.append(growth_col, col)\n",
    "        training_data = np.concatenate((training_data, data))\n",
    "\n",
    "    new_size = n * len(values)\n",
    "    training_data = np.array(\n",
    "        [np.append(training_data[i], growth_col[i]) for i in range(new_size)],\n",
    "    )\n",
    "    return training_data"
   ]
  },
  {
   "cell_type": "code",
   "execution_count": null,
   "metadata": {
    "id": "HtwmmrH-SK77"
   },
   "outputs": [],
   "source": [
    "growth_rates = [0.01, 0.02, 0.05]\n",
    "\n",
    "num_windows = np.size(measurement_windows, axis=0)\n",
    "training_data = duplicate_with_values(growth_rates, num_windows, fourier_data)\n",
    "\n",
    "print(np.size(fourier_data, axis=0))\n",
    "print(np.size(training_data, axis=0))"
   ]
  },
  {
   "attachments": {},
   "cell_type": "markdown",
   "metadata": {},
   "source": [
    "The second step was to calculate the time, in windows of measurement, so that each amplitude reached the threshold value\n",
    "according to the growth rate established for each amplitude of the axes. This calculation is given by"
   ]
  },
  {
   "cell_type": "code",
   "execution_count": null,
   "metadata": {},
   "outputs": [],
   "source": [
    "def calculate_failure_time(amplitude, threshold_value, growth_rate):\n",
    "    failure_time = (threshold_value - amplitude) / (amplitude * growth_rate)\n",
    "    return failure_time"
   ]
  },
  {
   "attachments": {},
   "cell_type": "markdown",
   "metadata": {},
   "source": [
    "Finally, the third step was to\n",
    "calculate the average between the failure times, generating the expected equipment failure time. Thus,\n",
    "given the input x = {x1, x2, ..., xn} and the signal growth rate gr, the expected output representing the\n",
    "estimated failure time FTe is given by"
   ]
  },
  {
   "cell_type": "code",
   "execution_count": null,
   "metadata": {},
   "outputs": [],
   "source": [
    "def calculate_estimated_failure_time(\n",
    "    failure_times,\n",
    "):  # actually, this is a simple mean\n",
    "    n = len(failure_times)\n",
    "    return sum(failure_times) / n"
   ]
  },
  {
   "cell_type": "code",
   "execution_count": null,
   "metadata": {},
   "outputs": [],
   "source": [
    "training_data= np.array(training_data, dtype=\"double\")\n",
    "threshold_values = [0.25, 0.7, 0.7]  # [x, y, z]\n",
    "num_samples = np.size(training_data, axis=0)\n",
    "\n",
    "eft = np.array([])\n",
    "for i in range(num_samples):\n",
    "    failure_time_x = calculate_failure_time(\n",
    "        training_data[i, 0],\n",
    "        threshold_values[0],\n",
    "        training_data[i, 6],\n",
    "    )\n",
    "    failure_time_y = calculate_failure_time(\n",
    "        training_data[i, 2],\n",
    "        threshold_values[1],\n",
    "        training_data[i, 6],\n",
    "    )\n",
    "    failure_time_z = calculate_failure_time(\n",
    "        training_data[i, 4],\n",
    "        threshold_values[2],\n",
    "        training_data[i, 6],\n",
    "    )\n",
    "    failure_times = [failure_time_x, failure_time_y, failure_time_z]\n",
    "    eft = np.append(\n",
    "        eft,\n",
    "        4 * calculate_estimated_failure_time(failure_times),\n",
    "    )  # factor 4 needed for some reason (probably R to python conversion)\n",
    "\n",
    "\n",
    "training_data = np.array(\n",
    "    [np.append(training_data[i], eft[i]) for i in range(num_samples)],\n",
    ")"
   ]
  },
  {
   "cell_type": "code",
   "execution_count": null,
   "metadata": {},
   "outputs": [],
   "source": [
    "# This function summarizes the whole preprocessing (after fourier transform)\n",
    "\n",
    "\n",
    "def gen_training_data(growths, thresholds, data):\n",
    "    num_windows = np.size(data, axis=0)\n",
    "    training_data = duplicate_with_values(growths, num_windows, data)\n",
    "    num_samples = np.size(training_data, axis=0)\n",
    "\n",
    "    eft = np.array([])\n",
    "    for i in range(num_samples):\n",
    "        failure_times = []\n",
    "        for j in range(len(threshold_values)):\n",
    "            failure_times.append(\n",
    "                calculate_failure_time(\n",
    "                    training_data[i, j * 2],\n",
    "                    thresholds[j],\n",
    "                    training_data[i, -1],\n",
    "                ),\n",
    "            )\n",
    "        eft = np.append(\n",
    "            eft,\n",
    "            4 * calculate_estimated_failure_time(failure_times),\n",
    "        )\n",
    "\n",
    "    processed_data = np.array(\n",
    "        [np.append(training_data[i], eft[i]) for i in range(num_samples)],\n",
    "    )\n",
    "    return processed_data, eft"
   ]
  },
  {
   "attachments": {},
   "cell_type": "markdown",
   "metadata": {},
   "source": [
    "### Print Plot of failure times"
   ]
  },
  {
   "cell_type": "code",
   "execution_count": null,
   "metadata": {},
   "outputs": [],
   "source": [
    "fig, (ax1) = plt.subplots(1, 1)\n",
    "# failure times plotted over size in the paper\n",
    "eft[::-1].sort()\n",
    "ax1.plot(eft)\n",
    "ax1.set_title(\"Failure Time Prediction\")\n",
    "ax1.set_xlabel(\"Dataset observations\")\n",
    "_ = ax1.set_ylabel(\"Time until Fail (s)\")"
   ]
  },
  {
   "attachments": {},
   "cell_type": "markdown",
   "metadata": {},
   "source": [
    "### Dump Data to File"
   ]
  },
  {
   "cell_type": "code",
   "execution_count": null,
   "metadata": {},
   "outputs": [],
   "source": [
    "header = \"x-Amplitude,x-Frequency,y-Amplitude,y-Frequency,z-Amplitude,z-Frequency,Growth-rate,Estimated-Failure-Time\"\n",
    "np.savetxt(\n",
    "    \"./data/processed_data.csv\",\n",
    "    training_data,\n",
    "    delimiter=\",\",\n",
    "    header=header,\n",
    "    comments=\"\",\n",
    ")"
   ]
  },
  {
   "cell_type": "markdown",
   "metadata": {},
   "source": [
    "### Generate Alternative Test Datasets"
   ]
  },
  {
   "attachments": {},
   "cell_type": "markdown",
   "metadata": {},
   "source": [
    "Two new datasets were generated with different amplitude values and vibration signal\n",
    "growth rates in relation to the original training dataset, in order to attest to the generalizability of\n",
    "the trained model. Both datasets for generalization served as input to the models and the RMSE\n",
    "values of these new tests were calculated. Generalization dataset (a) was generated with the same\n",
    "vibration amplitude values as the models’ original training dataset, but with different growth rate\n",
    "values of 0.015, 0.03, and 0.04, totaling 9180 observations."
   ]
  },
  {
   "cell_type": "code",
   "execution_count": null,
   "metadata": {},
   "outputs": [],
   "source": [
    "growth_rates = [0.015, 0.03, 0.04]\n",
    "threshold_values = [0.25, 0.7, 0.7]\n",
    "\n",
    "test_data, eft = gen_training_data(\n",
    "    growth_rates,\n",
    "    threshold_values,\n",
    "    fourier_data,\n",
    ")\n",
    "\n",
    "print(\"Number of samples: \", np.size(training_data, axis=0))"
   ]
  },
  {
   "cell_type": "code",
   "execution_count": null,
   "metadata": {},
   "outputs": [],
   "source": [
    "fig, (ax1) = plt.subplots(1, 1)\n",
    "eft[::-1].sort()\n",
    "ax1.plot(eft)\n",
    "ax1.set_title(\"Failure Time Prediction\")\n",
    "ax1.set_xlabel(\"Dataset observations\")\n",
    "_ = ax1.set_ylabel(\"Time until Fail (s)\")"
   ]
  },
  {
   "cell_type": "code",
   "execution_count": null,
   "metadata": {},
   "outputs": [],
   "source": [
    "header = \"x-Amplitude,x-Frequency,y-Amplitude,y-Frequency,z-Amplitude,z-Frequency,Growth-rate,Estimated-Failure-Time\"\n",
    "np.savetxt(\n",
    "    \"./data/test_data_a.csv\",\n",
    "    test_data,\n",
    "    delimiter=\",\",\n",
    "    header=header,\n",
    "    comments=\"\",\n",
    ")"
   ]
  },
  {
   "attachments": {},
   "cell_type": "markdown",
   "metadata": {},
   "source": [
    "Generalization dataset (b) was produced\n",
    "with the average amplitude values for each cooler motor rotation speed in the three weight settings of\n",
    "its blades, doubled by the vibration signal growth rates of 0.015, 0.03 and 0.04 totaling 153 observations."
   ]
  },
  {
   "cell_type": "code",
   "execution_count": null,
   "metadata": {},
   "outputs": [],
   "source": [
    "def get_means(data, segment_length):\n",
    "    assert np.size(data, axis=0) % segment_length == 0\n",
    "    avg_data = []\n",
    "    start_id = 0\n",
    "    while start_id < np.size(data, axis=0):\n",
    "        avgs = []\n",
    "        for i in range(np.size(data, axis=1)):\n",
    "            avgs.append(\n",
    "                np.mean(data[start_id : (start_id + segment_length), i]),\n",
    "            )\n",
    "        avg_data.append(avgs)\n",
    "        start_id = start_id + segment_length\n",
    "    return avg_data\n",
    "\n",
    "\n",
    "segment = 60  # 3000 records divided by 50 (number of records per window)\n",
    "avg_data = get_means(fourier_data, segment)\n",
    "avg_data = np.array(avg_data)"
   ]
  },
  {
   "cell_type": "code",
   "execution_count": null,
   "metadata": {},
   "outputs": [],
   "source": [
    "growth_rates = [0.015, 0.03, 0.04]\n",
    "threshold_values = [0.25, 0.7, 0.7]\n",
    "\n",
    "test_data, eft = gen_training_data(growth_rates, threshold_values, avg_data)\n",
    "print(\"Number of samples: \", np.size(test_data, axis=0))"
   ]
  },
  {
   "cell_type": "code",
   "execution_count": null,
   "metadata": {},
   "outputs": [],
   "source": [
    "fig, (ax1) = plt.subplots(1, 1)\n",
    "eft[::-1].sort()\n",
    "ax1.plot(eft)\n",
    "ax1.set_title(\"Failure Time Prediction\")\n",
    "ax1.set_xlabel(\"Dataset observations\")\n",
    "_ = ax1.set_ylabel(\"Time until Fail (s)\")"
   ]
  },
  {
   "cell_type": "code",
   "execution_count": null,
   "metadata": {},
   "outputs": [],
   "source": [
    "header = \"x-Amplitude,x-Frequency,y-Amplitude,y-Frequency,z-Amplitude,z-Frequency,Growth-rate,Estimated-Failure-Time\"\n",
    "np.savetxt(\n",
    "    \"./data/test_data_b.csv\",\n",
    "    test_data,\n",
    "    delimiter=\",\",\n",
    "    header=header,\n",
    "    comments=\"\",\n",
    ")"
   ]
  }
 ],
 "metadata": {
  "colab": {
   "provenance": []
  },
  "kernelspec": {
   "display_name": ".venv",
   "language": "python",
   "name": "python3"
  },
  "language_info": {
   "codemirror_mode": {
    "name": "ipython",
    "version": 3
   },
   "file_extension": ".py",
   "mimetype": "text/x-python",
   "name": "python",
   "nbconvert_exporter": "python",
   "pygments_lexer": "ipython3",
   "version": "3.12.8"
  }
 },
 "nbformat": 4,
 "nbformat_minor": 0
}
